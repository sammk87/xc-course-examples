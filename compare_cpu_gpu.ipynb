{
 "cells": [
  {
   "cell_type": "markdown",
   "metadata": {},
   "source": [
    "# Comparing CPU and GPU Performance in Google Colab\n",
    "This notebook demonstrates the difference in computation time between using a CPU and a GPU for matrix multiplication. TensorFlow is used to perform the operations."
   ]
  },
  {
   "cell_type": "code",
   "execution_count": null,
   "metadata": {},
   "outputs": [],
   "source": [
    "# Step 1: Install and Import Necessary Libraries\n",
    "import tensorflow as tf\n",
    "import time\n"
   ]
  },
  {
   "cell_type": "code",
   "execution_count": null,
   "metadata": {},
   "outputs": [],
   "source": [
    "# Step 2: Check for GPU Availability\n",
    "print(\"Is there a GPU available?:\", tf.test.is_gpu_available())\n",
    "print(\"GPU Device Name:\", tf.test.gpu_device_name())"
   ]
  },
  {
   "cell_type": "code",
   "execution_count": null,
   "metadata": {},
   "outputs": [],
   "source": [
    "# Step 3: Create a Large Matrix for Computation\n",
    "matrix_size = 5000  # Size of the square matrix\n",
    "A = tf.random.normal((matrix_size, matrix_size))\n",
    "B = tf.random.normal((matrix_size, matrix_size))\n",
    "\n",
    "# Function to perform matrix multiplication and measure execution time\n",
    "def measure_time(device_name):\n",
    "    with tf.device(device_name):\n",
    "        start_time = time.time()\n",
    "        result = tf.matmul(A, B)  # Perform matrix multiplication\n",
    "        _ = result.numpy()  # Force computation to complete\n",
    "        end_time = time.time()\n",
    "    return end_time - start_time"
   ]
  },
  {
   "cell_type": "code",
   "execution_count": null,
   "metadata": {},
   "outputs": [],
   "source": [
    "# Step 4: Measure Time on CPU\n",
    "print(\"\\nPerforming computation on CPU...\")\n",
    "cpu_time = measure_time('/CPU:0')\n",
    "print(f\"Time taken on CPU: {cpu_time:.4f} seconds\")"
   ]
  },
  {
   "cell_type": "code",
   "execution_count": null,
   "metadata": {},
   "outputs": [],
   "source": [
    "# Step 5: Measure Time on GPU (if available)\n",
    "if tf.test.is_gpu_available():\n",
    "    print(\"\\nPerforming computation on GPU...\")\n",
    "    gpu_time = measure_time('/GPU:0')\n",
    "    print(f\"Time taken on GPU: {gpu_time:.4f} seconds\")\n",
    "else:\n",
    "    print(\"\\nNo GPU available. Skipping GPU computation.\")"
   ]
  },
  {
   "cell_type": "code",
   "execution_count": null,
   "metadata": {},
   "outputs": [],
   "source": [
    "# Step 6: Compare Results\n",
    "if tf.test.is_gpu_available():\n",
    "    print(\"\\nComparison:\")\n",
    "    print(f\"CPU time: {cpu_time:.4f} seconds\")\n",
    "    print(f\"GPU time: {gpu_time:.4f} seconds\")\n",
    "    print(f\"Speedup: {cpu_time / gpu_time:.2f}x faster on GPU!\")\n",
    "else:\n",
    "    print(\"\\nComparison not available as no GPU is detected.\")"
   ]
  }
 ],
 "metadata": {
  "kernelspec": {
   "display_name": "Python 3",
   "language": "python",
   "name": "python3"
  },
  "language_info": {
   "codemirror_mode": {
    "name": "ipython",
    "version": 3
   },
   "file_extension": ".py",
   "mimetype": "text/x-python",
   "name": "python",
   "nbconvert_exporter": "python",
   "pygments_lexer": "ipython3",
   "version": "3.8.10"
  }
 },
 "nbformat": 4,
 "nbformat_minor": 4
}
